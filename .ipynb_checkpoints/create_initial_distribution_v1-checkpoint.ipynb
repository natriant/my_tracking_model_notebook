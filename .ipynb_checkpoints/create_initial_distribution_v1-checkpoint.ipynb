{
 "cells": [
  {
   "cell_type": "markdown",
   "metadata": {},
   "source": [
    "## This script creates and saves in a pickle file the initial distribution. \n",
    "- Like this the same initial distribution can be used for many different studies. \n",
    "- This is important as, in the presence of non-linearities (like the ones introduced by the octupole) result to a variation of the emittance evolution (ppt of 9Sep2019)\n",
    "- The distributions are saved in the direcotry ./my_distributions"
   ]
  },
  {
   "cell_type": "code",
   "execution_count": 1,
   "metadata": {},
   "outputs": [],
   "source": [
    "import sys\n",
    "from math import *\n",
    "from dotted_dict import DottedDict\n",
    "sys.path.append('./utils')\n",
    "from my_functions import *\n",
    "import pandas as pd"
   ]
  },
  {
   "cell_type": "markdown",
   "metadata": {},
   "source": [
    "### Define the machine parameters"
   ]
  },
  {
   "cell_type": "code",
   "execution_count": 2,
   "metadata": {},
   "outputs": [],
   "source": [
    "gamma_rel = 7460.52252807237 # from madx twiss\n",
    "beta_rel = sqrt(1-(1/gamma_rel)**2)\n",
    "# Twiss parameters\n",
    "twiss = DottedDict()\n",
    "twiss.beta_x = 115.75 #at IP3 #obtained from madx twiss. should be crossed check\n",
    "twiss.beta_y = 1. \n",
    "twiss.alpha_x = 0 \n",
    "twiss.alpha_y = 0 \n",
    "twiss.gamma_x = (1+twiss.alpha_x**2)/twiss.beta_x\n",
    "twiss.gamma_y = (1+twiss.alpha_y**2)/twiss.beta_y\n",
    "# Normalised emittance\n",
    "ex_norm = 2.5e-6 # [m]\n",
    "# Number of particles\n",
    "particles = 15000"
   ]
  },
  {
   "cell_type": "markdown",
   "metadata": {},
   "source": [
    "### Calculate beam sigma"
   ]
  },
  {
   "cell_type": "markdown",
   "metadata": {},
   "source": [
    "\\begin{equation}\n",
    "\\sigma = \\sqrt{e_{geom}\\beta(s)} \\\\\n",
    "e_{geom} = \\frac{e_{norm}}{\\beta_{rel}\\gamma_{rel}}\n",
    "\\end{equation}"
   ]
  },
  {
   "cell_type": "code",
   "execution_count": 3,
   "metadata": {},
   "outputs": [
    {
     "name": "stdout",
     "output_type": "stream",
     "text": [
      "0.00019694541882215593 1.7014723008393603e-06\n"
     ]
    }
   ],
   "source": [
    "ex_geom = ex_norm/(beta_rel*gamma_rel)\n",
    "#ex_geom = 0.047#*1e-9 #for SCC\n",
    "sigma_x = sqrt(twiss.beta_x*ex_geom)\n",
    "sigma_px = sqrt(ex_geom/twiss.beta_x)\n",
    "print(sigma_x, sigma_px)"
   ]
  },
  {
   "cell_type": "markdown",
   "metadata": {},
   "source": [
    "### Create the initial distribution"
   ]
  },
  {
   "cell_type": "code",
   "execution_count": 4,
   "metadata": {},
   "outputs": [],
   "source": [
    "bunch = create_bunch(particles)"
   ]
  },
  {
   "cell_type": "code",
   "execution_count": 5,
   "metadata": {},
   "outputs": [],
   "source": [
    "# Set up the initial distribution. Gaussian, with sigma = sigma_x\n",
    "mu, sigma = 0.0, 1 # mean and standard deviation\n",
    "x_initial = np.random.normal(mu, sigma, particles)*sigma_x\n",
    "px_initial = np.random.normal(mu, sigma, particles)*sigma_px\n",
    "bunch.x = x_initial\n",
    "bunch.px = px_initial"
   ]
  },
  {
   "cell_type": "markdown",
   "metadata": {},
   "source": [
    "### Create the data frame to save the distribution"
   ]
  },
  {
   "cell_type": "code",
   "execution_count": 6,
   "metadata": {},
   "outputs": [],
   "source": [
    "df = pd.DataFrame({'x':[], 'px':[], 'y':[], 'py':[]})\n",
    "# Append the initial values, not normalised\n",
    "df = df.append({'x':bunch.x, 'px':bunch.px, 'y':bunch.y, 'py':bunch.py}, ignore_index = True)\n",
    "df.to_pickle('./my_distributions/ex_norm{}_betax{}_particles{}.pkl'.format(ex_norm, twiss.beta_x, particles))"
   ]
  },
  {
   "cell_type": "code",
   "execution_count": null,
   "metadata": {},
   "outputs": [],
   "source": []
  },
  {
   "cell_type": "code",
   "execution_count": null,
   "metadata": {},
   "outputs": [],
   "source": []
  },
  {
   "cell_type": "code",
   "execution_count": null,
   "metadata": {},
   "outputs": [],
   "source": []
  }
 ],
 "metadata": {
  "kernelspec": {
   "display_name": "Python 3",
   "language": "python",
   "name": "python3"
  },
  "language_info": {
   "codemirror_mode": {
    "name": "ipython",
    "version": 3
   },
   "file_extension": ".py",
   "mimetype": "text/x-python",
   "name": "python",
   "nbconvert_exporter": "python",
   "pygments_lexer": "ipython3",
   "version": "3.7.1"
  }
 },
 "nbformat": 4,
 "nbformat_minor": 4
}
