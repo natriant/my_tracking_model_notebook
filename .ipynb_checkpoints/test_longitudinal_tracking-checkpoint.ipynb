{
 "cells": [
  {
   "cell_type": "code",
   "execution_count": 1,
   "metadata": {},
   "outputs": [],
   "source": [
    "from math import *\n",
    "import numpy as np"
   ]
  },
  {
   "cell_type": "markdown",
   "metadata": {},
   "source": [
    "### Parameters for HL-LHC at 7 TeV"
   ]
  },
  {
   "cell_type": "markdown",
   "metadata": {},
   "source": [
    "##### Parameters crossechecked with the results from MAD-X twiss for HL-LHC at 7 TeV\n",
    "- cernbox/2019/7/HL_LH_mask_emilia.ipynb \n",
    "- output file twiss_lhcb2.tfs"
   ]
  },
  {
   "cell_type": "markdown",
   "metadata": {},
   "source": [
    "### Reminder of relativistic formulas"
   ]
  },
  {
   "cell_type": "markdown",
   "metadata": {},
   "source": [
    "1) rest energy\n",
    "\\begin{equation}\n",
    "E_0 = m_0 c^2 [eV] = m_0 [eV/c^2]\n",
    "\\end{equation}\n",
    "2) total energy\n",
    "\\begin{equation}\n",
    "E_{total} = \\gamma E_0 [eV] \n",
    "\\end{equation}\n",
    "3) kineticl energy\n",
    "\\begin{equation}\n",
    "E_{kin} = E_{total} - m_0 c^2 [eV] \n",
    "\\end{equation}\n",
    "4) reference momentum \n",
    "\\begin{equation}\n",
    "P_0 = \\sqrt{E_{total}^2- E_0^2}/c [eV/c]\n",
    "\\end{equation}\n",
    "5) momentum\n",
    "\\begin{equation}\n",
    "E^2 = c^2 p^2 + m_0^2 c^4\n",
    "\\end{equation}"
   ]
  },
  {
   "cell_type": "markdown",
   "metadata": {},
   "source": [
    "### Constants"
   ]
  },
  {
   "cell_type": "code",
   "execution_count": 23,
   "metadata": {},
   "outputs": [],
   "source": [
    "m0 = 0.9382720813 # proton rest mass, [GeV/c^2] \n",
    "c = 299792458 #speed of light [m/s]\n",
    "L = 26658.8832 # LHC circumference MAD-X twiss, [m]"
   ]
  },
  {
   "cell_type": "markdown",
   "metadata": {},
   "source": [
    "### Relativistic parameters"
   ]
  },
  {
   "cell_type": "code",
   "execution_count": 24,
   "metadata": {},
   "outputs": [],
   "source": [
    "E0 = m0 # rest energy [GeV]\n",
    "E_total = 7000. # [GeV]\n",
    "gamma_rel = E_total/E0 # crosscheckd with madx\n",
    "beta_rel =  np.sqrt(1-1/gamma_rel**2)"
   ]
  },
  {
   "cell_type": "markdown",
   "metadata": {},
   "source": [
    "### Estimate reference momentum"
   ]
  },
  {
   "cell_type": "code",
   "execution_count": 25,
   "metadata": {},
   "outputs": [],
   "source": [
    "PC = np.sqrt(E_total**2-E0**2) # reference momentum times the speed of ligth in GeV"
   ]
  },
  {
   "cell_type": "markdown",
   "metadata": {},
   "source": [
    "### Some more synchrotron parameters"
   ]
  },
  {
   "cell_type": "code",
   "execution_count": 27,
   "metadata": {},
   "outputs": [],
   "source": [
    "gamma_tr =  53.7102749510076 # MAD-X twiss\n",
    "f_rev = (beta_rel*c)/L # revolution frequency [Hz]\n",
    "T_rev = 1/f_rev # revolution period [s]\n",
    "alpha_c = (1/(gamma_tr**2)) # compaction factor\n",
    "eta = abs(alpha_c -1/(gamma_rel**2) ) # slip factor"
   ]
  },
  {
   "cell_type": "markdown",
   "metadata": {},
   "source": [
    "### RF parameters"
   ]
  },
  {
   "cell_type": "code",
   "execution_count": null,
   "metadata": {},
   "outputs": [],
   "source": [
    "V_rf = \n",
    "h = "
   ]
  },
  {
   "cell_type": "markdown",
   "metadata": {},
   "source": [
    "### Define the functions for longituinal tracking (we assume that both are at the same location, at the end of the ring)\n",
    "1. Drift\n",
    "2. RF\n",
    "\n",
    "\n",
    "Note that z and delta the lonfitudinal coordiantes of the particle"
   ]
  },
  {
   "cell_type": "code",
   "execution_count": 26,
   "metadata": {},
   "outputs": [],
   "source": [
    "def longitudinal_drift_linear(V_rf, T_rev, beta_rel, clight, L, P0, eta, h, z, delta):\n",
    "    z1 = z - eta*delta*clight*beta_rel*T_rev\n",
    "    delta1 = delta - z*V_rf*T_rev*np.sin(2*np.pi*h*z/l)/(P0*L)\n",
    "    \n",
    "    "
   ]
  },
  {
   "cell_type": "code",
   "execution_count": null,
   "metadata": {},
   "outputs": [],
   "source": []
  }
 ],
 "metadata": {
  "kernelspec": {
   "display_name": "Python 3",
   "language": "python",
   "name": "python3"
  },
  "language_info": {
   "codemirror_mode": {
    "name": "ipython",
    "version": 3
   },
   "file_extension": ".py",
   "mimetype": "text/x-python",
   "name": "python",
   "nbconvert_exporter": "python",
   "pygments_lexer": "ipython3",
   "version": "3.7.1"
  }
 },
 "nbformat": 4,
 "nbformat_minor": 4
}
